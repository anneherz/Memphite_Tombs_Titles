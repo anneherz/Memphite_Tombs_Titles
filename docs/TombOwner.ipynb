{
 "cells": [
  {
   "cell_type": "code",
   "execution_count": 1,
   "metadata": {},
   "outputs": [],
   "source": [
    "%%capture\n",
    "%run Memphis.ipynb"
   ]
  },
  {
   "cell_type": "code",
   "execution_count": 15,
   "metadata": {},
   "outputs": [],
   "source": [
    "jobgroup1=list()\n",
    "jobgroup2=list()\n",
    "jobgroup3=list()\n",
    "\n",
    "for j in range(len(title)):\n",
    "    try:\n",
    "        ids=title[j]['titles_related_persons_list'][0]['id']\n",
    "        \n",
    "        if database[str(ids)]['tomb_person_relation'] == \"other character\":\n",
    "            jobgroup1.append((title[j]['field3'], database[str(ids)]['dating']))\n",
    "        if database[str(ids)]['tomb_person_relation'] == \"main character (tomb owner)\":\n",
    "            jobgroup2.append((title[j]['field3'], database[str(ids)]['dating']))\n",
    "        if database[str(ids)]['tomb_person_relation'] == \"Not defined\":\n",
    "            jobgroup3.append((title[j]['field3'], database[str(ids)]['dating']))\n",
    "        \n",
    "    except:\n",
    "        pass"
   ]
  },
  {
   "cell_type": "code",
   "execution_count": null,
   "metadata": {},
   "outputs": [],
   "source": [
    "jg1=[i[0] for i in jobgroup1]\n",
    "ep1=[i[1] for i in jobgroup1]\n",
    "jg2=[i[0] for i in jobgroup2]\n",
    "ep2=[i[1] for i in jobgroup2]\n",
    "jg3=[i[0] for i in jobgroup3]\n",
    "ep3=[i[1] for i in jobgroup3]\n",
    "d1 = {'job groups (other char.)': jg1, 'period (other char.)': ep1}\n",
    "d2 = {'job groups (main char.)': jg2, 'period (main char.)': ep2}\n",
    "d3 = {'job groups (Not defined)': jg3, 'period (Not defined)': ep3}\n",
    "dftomb1 = pd.DataFrame(data=d1)\n",
    "dftomb1.head()\n",
    "dftomb2 = pd.DataFrame(data=d2)\n",
    "dftomb2.head()\n",
    "dftomb3 = pd.DataFrame(data=d3)\n",
    "dftomb3.head();"
   ]
  },
  {
   "cell_type": "markdown",
   "metadata": {},
   "source": [
    "### Other characters"
   ]
  },
  {
   "cell_type": "code",
   "execution_count": 24,
   "metadata": {},
   "outputs": [
    {
     "data": {
      "text/html": [
       "\n",
       "        <iframe\n",
       "            width=\"100%\"\n",
       "            height=\"700\"\n",
       "            src=\"pivottablejs.html\"\n",
       "            frameborder=\"0\"\n",
       "            allowfullscreen\n",
       "        ></iframe>\n",
       "        "
      ],
      "text/plain": [
       "<IPython.lib.display.IFrame at 0x7f40f5f12eb8>"
      ]
     },
     "execution_count": 24,
     "metadata": {},
     "output_type": "execute_result"
    }
   ],
   "source": [
    "pivot_ui(dftomb1, outfile_path='other.html', url='', width='100%', height='700')"
   ]
  },
  {
   "cell_type": "markdown",
   "metadata": {},
   "source": [
    "### Main characters"
   ]
  },
  {
   "cell_type": "code",
   "execution_count": 27,
   "metadata": {},
   "outputs": [
    {
     "data": {
      "text/html": [
       "\n",
       "        <iframe\n",
       "            width=\"100%\"\n",
       "            height=\"700\"\n",
       "            src=\"main.html\"\n",
       "            frameborder=\"0\"\n",
       "            allowfullscreen\n",
       "        ></iframe>\n",
       "        "
      ],
      "text/plain": [
       "<IPython.lib.display.IFrame at 0x7f40f5f0d278>"
      ]
     },
     "execution_count": 27,
     "metadata": {},
     "output_type": "execute_result"
    }
   ],
   "source": [
    "pivot_ui(dftomb2, outfile_path='main.html', url='', width='100%', height='700')"
   ]
  },
  {
   "cell_type": "markdown",
   "metadata": {},
   "source": [
    "### Not defined "
   ]
  },
  {
   "cell_type": "code",
   "execution_count": 29,
   "metadata": {},
   "outputs": [
    {
     "data": {
      "text/html": [
       "\n",
       "        <iframe\n",
       "            width=\"100%\"\n",
       "            height=\"700\"\n",
       "            src=\"notdefined.html\"\n",
       "            frameborder=\"0\"\n",
       "            allowfullscreen\n",
       "        ></iframe>\n",
       "        "
      ],
      "text/plain": [
       "<IPython.lib.display.IFrame at 0x7f40f5f0d2b0>"
      ]
     },
     "execution_count": 29,
     "metadata": {},
     "output_type": "execute_result"
    }
   ],
   "source": [
    "pivot_ui(dftomb3, outfile_path='notdefined.html', url='', width='100%', height='700')"
   ]
  },
  {
   "cell_type": "code",
   "execution_count": null,
   "metadata": {},
   "outputs": [],
   "source": []
  }
 ],
 "metadata": {
  "kernelspec": {
   "display_name": "Python 3",
   "language": "python",
   "name": "python3"
  },
  "language_info": {
   "codemirror_mode": {
    "name": "ipython",
    "version": 3
   },
   "file_extension": ".py",
   "mimetype": "text/x-python",
   "name": "python",
   "nbconvert_exporter": "python",
   "pygments_lexer": "ipython3",
   "version": "3.7.0"
  }
 },
 "nbformat": 4,
 "nbformat_minor": 2
}
